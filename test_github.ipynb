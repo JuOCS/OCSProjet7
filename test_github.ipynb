{
  "nbformat": 4,
  "nbformat_minor": 0,
  "metadata": {
    "colab": {
      "provenance": [],
      "mount_file_id": "1SQfomVCgRtd5RXi1ZFpdHKSlDia4kthP",
      "authorship_tag": "ABX9TyN5E31wihi4F8xEwmTywFnp",
      "include_colab_link": true
    },
    "kernelspec": {
      "name": "python3",
      "display_name": "Python 3"
    },
    "language_info": {
      "name": "python"
    }
  },
  "cells": [
    {
      "cell_type": "markdown",
      "metadata": {
        "id": "view-in-github",
        "colab_type": "text"
      },
      "source": [
        "<a href=\"https://colab.research.google.com/github/JuOCS/OCSProjet7/blob/main/test_github.ipynb\" target=\"_parent\"><img src=\"https://colab.research.google.com/assets/colab-badge.svg\" alt=\"Open In Colab\"/></a>"
      ]
    },
    {
      "cell_type": "code",
      "execution_count": 1,
      "metadata": {
        "id": "9bl9NBnPFDMt"
      },
      "outputs": [],
      "source": [
        "# test github\n",
        "# ajout de code"
      ]
    }
  ]
}