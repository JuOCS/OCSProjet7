{
  "nbformat": 4,
  "nbformat_minor": 0,
  "metadata": {
    "colab": {
      "provenance": [],
      "authorship_tag": "ABX9TyNg7Gl/+0zU8XyvgC21Mbbc",
      "include_colab_link": true
    },
    "kernelspec": {
      "name": "python3",
      "display_name": "Python 3"
    },
    "language_info": {
      "name": "python"
    }
  },
  "cells": [
    {
      "cell_type": "markdown",
      "metadata": {
        "id": "view-in-github",
        "colab_type": "text"
      },
      "source": [
        "<a href=\"https://colab.research.google.com/github/JuOCS/OCSProjet7/blob/main/app_py.ipynb\" target=\"_parent\"><img src=\"https://colab.research.google.com/assets/colab-badge.svg\" alt=\"Open In Colab\"/></a>"
      ]
    },
    {
      "cell_type": "code",
      "execution_count": null,
      "metadata": {
        "id": "oE3sjPcP3wpk"
      },
      "outputs": [],
      "source": [
        "# projet 7 - app.py"
      ]
    },
    {
      "cell_type": "code",
      "source": [
        "import os\n",
        "import joblib\n",
        "import pandas as pd\n",
        "import shap\n",
        "from flask import Flask, jsonify, request\n",
        "from sklearn.preprocessing import StandardScaler\n",
        "from azure.storage.blob import BlobServiceClient\n",
        "\n",
        "# Initialiser Flask\n",
        "app = Flask(__name__)\n",
        "\n",
        "# Connexion au stockage Azure\n",
        "BLOB_CONN_STR = os.getenv(\"AZURE_STORAGE_CONNECTION_STRING\")\n",
        "CONTAINER_NAME = \"my-container\"\n",
        "\n",
        "def download_blob(blob_name, save_path):\n",
        "    blob_service = BlobServiceClient.from_connection_string(BLOB_CONN_STR)\n",
        "    blob_client = blob_service.get_blob_client(container=CONTAINER_NAME, blob=blob_name)\n",
        "    with open(save_path, \"wb\") as f:\n",
        "        f.write(blob_client.download_blob().readall())\n",
        "\n",
        "# Télécharger les fichiers depuis Azure Blob Storage\n",
        "download_blob(\"modele_pipeline.pkl\", \"modele_pipeline.pkl\")\n",
        "download_blob(\"dataframeP7.pkl\", \"data/dataframeP7.pkl\")\n",
        "\n",
        "# Charger les données\n",
        "df = pd.read_pickle(\"data/dataframeP7.pkl\")\n",
        "df_reel = df[df[\"TARGET\"].isna()]\n",
        "\n",
        "# Charger le modèle\n",
        "pipeline = joblib.load(\"modele_pipeline.pkl\")\n",
        "scaler = pipeline.named_steps['scaler']\n",
        "model = pipeline.named_steps['classifier']\n",
        "\n",
        "@app.route(\"/predict\", methods=['POST'])\n",
        "def predict():\n",
        "    try:\n",
        "        data = request.json\n",
        "        sk_id_curr = data['SK_ID_CURR']\n",
        "\n",
        "        sample = df_reel[df_reel['SK_ID_CURR'] == sk_id_curr]\n",
        "        if sample.empty:\n",
        "            return jsonify({'error': 'ID non trouvé dans les données'}), 404\n",
        "\n",
        "        sample = sample.drop(columns=['TARGET'])\n",
        "        sample_scaled = scaler.transform(sample)\n",
        "\n",
        "        prediction = model.predict_proba(sample_scaled)\n",
        "        proba = prediction[0][1] * 100\n",
        "\n",
        "        # SHAP values\n",
        "        explainer = shap.TreeExplainer(model)\n",
        "        shap_values = explainer.shap_values(sample_scaled)[0][0].tolist()\n",
        "\n",
        "        return jsonify({\n",
        "            'probability': proba,\n",
        "            'shap_values': shap_values,\n",
        "            'feature_names': sample.columns.tolist(),\n",
        "            'feature_values': sample.values[0].tolist()\n",
        "        })\n",
        "\n",
        "    except Exception as e:\n",
        "        return jsonify({'error': str(e)}), 500\n",
        "\n",
        "# Lancer l'API\n",
        "if __name__ == \"__main__\":\n",
        "    app.run(debug=False, host=\"0.0.0.0\", port=5000)\n"
      ],
      "metadata": {
        "id": "OOW3PrKr4QSV"
      },
      "execution_count": null,
      "outputs": []
    }
  ]
}